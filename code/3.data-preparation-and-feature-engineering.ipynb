{
 "cells": [
  {
   "cell_type": "code",
   "execution_count": 1,
   "metadata": {
    "collapsed": true
   },
   "outputs": [],
   "source": [
    "import numpy as np\n",
    "import pandas as pd\n",
    "import pickle "
   ]
  },
  {
   "cell_type": "code",
   "execution_count": 2,
   "metadata": {
    "collapsed": true
   },
   "outputs": [],
   "source": [
    "#load file from pickle\n",
    "with open('pickle-files/master_data_1007.pkl', 'rb') as picklefile: \n",
    "    master_data_dict = pickle.load(picklefile)\n",
    "\n",
    "\n",
    "#transform to dataframe\n",
    "df = pd.DataFrame(master_data_dict)"
   ]
  },
  {
   "cell_type": "code",
   "execution_count": 3,
   "metadata": {
    "collapsed": true
   },
   "outputs": [],
   "source": [
    "#take out data without price rate and clean the column\n",
    "df['rate_price'] = df['rate_price'].astype(object).str.replace('$',' ')\n",
    "df['rate_price'] = df['rate_price'].str.strip()\n",
    "df = df[df['rate_price'] != '—']\n",
    "df['rate_price'] = df['rate_price'].str.replace(',','')\n",
    "df['rate_price'] = df['rate_price'].astype(float)\n",
    "\n",
    "\n",
    "#convert sqft to numbers\n",
    "df['sqft'] = df['sqft'].str.replace(',','').astype(int)\n",
    "\n",
    "\n",
    "#reset index after dropping all lists without price\n",
    "df = df.reset_index(drop = True)"
   ]
  },
  {
   "cell_type": "code",
   "execution_count": 4,
   "metadata": {
    "scrolled": true
   },
   "outputs": [
    {
     "name": "stderr",
     "output_type": "stream",
     "text": [
      "C:\\Users\\yichi\\AppData\\Local\\Continuum\\anaconda3\\lib\\site-packages\\pandas\\core\\indexing.py:202: SettingWithCopyWarning: \n",
      "A value is trying to be set on a copy of a slice from a DataFrame\n",
      "\n",
      "See the caveats in the documentation: http://pandas.pydata.org/pandas-docs/stable/user_guide/indexing.html#returning-a-view-versus-a-copy\n",
      "  self._setitem_with_indexer(indexer, value)\n"
     ]
    }
   ],
   "source": [
    "#standarizing Rate Price into sqft/month\n",
    "xyz = []\n",
    "\n",
    "for i in range(len(df['rate_price'])):\n",
    "    if (df.loc[i, 'rate_term'] =='mo'):\n",
    "        xyz.append(df.loc[i,'rate_price']/df.loc[i,'sqft'])\n",
    "        df['rate_term'].iloc[i] = df['rate_term'].iloc[i].replace('mo','sqft/mo')\n",
    "    elif (df.loc[i, 'rate_term'] =='sqft/yr'):\n",
    "        xyz.append(df.loc[i,'rate_price']/12)\n",
    "        df['rate_term'].iloc[i] = df['rate_term'].iloc[i].replace('sqft/yr','sqft/mo')\n",
    "    elif (df.loc[i, 'rate_term'] =='yr'):\n",
    "        xyz.append((df.loc[i,'rate_price']/12)/df.loc[i,'sqft'])\n",
    "        df['rate_term'].iloc[i] = df['rate_term'].iloc[i].replace('yr','sqft/mo')\n",
    "    else:\n",
    "        xyz.append(df.loc[i, 'rate_price'])\n",
    "\n",
    "df['rate_price'] = pd.Series(xyz)"
   ]
  },
  {
   "cell_type": "code",
   "execution_count": 5,
   "metadata": {
    "collapsed": true
   },
   "outputs": [],
   "source": [
    "#convert renovate_year column to binary -- 0 if 'None', 1 if with a year\n",
    "df['renovate_year'] = np.where(df['renovate_year'] == 'None', 0, 1)\n",
    "df = df.rename({'renovate_year': 'has_renovated'}, axis=1)\n",
    "df['has_renovated'] = df['has_renovated'].astype('int')\n",
    "\n",
    "#create new column nearby_public_transit to get how many subway lines are available near the leasing office area\n",
    "df['nearby_public_transit'] = [len(i.split(',')) for i in df['public_transit']]\n",
    "\n",
    "\n",
    "#transform amenity columns as categorical types\n",
    "df['common_kitchen'] = df['common_kitchen'].astype('int')\n",
    "df['showers'] = df['showers'].astype('int')\n",
    "df['key_card_access'] = df['key_card_access'].astype('int')\n",
    "df['on_site_security'] = df['on_site_security'].astype('int')\n",
    "df['furniture'] = df['furniture'].astype('int')\n",
    "df['turnkey'] = df['turnkey'].astype('int')\n",
    "df['natural_light'] = df['natural_light'].astype('int')\n",
    "df['high_ceilings'] = df['high_ceilings'].astype('int')\n",
    "df['plug_and_play'] = df['plug_and_play'].astype('int')"
   ]
  },
  {
   "cell_type": "code",
   "execution_count": 6,
   "metadata": {
    "collapsed": true
   },
   "outputs": [],
   "source": [
    "#convert *construction_type* into dummies and append to df\n",
    "ct = pd.get_dummies(df['construction_type'].str.split(', ').apply(pd.Series).stack()).sum(level=0)\n",
    "ct = pd.DataFrame(ct)\n",
    "df = df.join(ct)\n",
    "df = pd.DataFrame(df)\n",
    "\n",
    "#set data types of construction types as integer\n",
    "df['Brick'] = df['Brick'].astype('int')\n",
    "df['Concrete'] = df['Concrete'].astype('int')\n",
    "df['Glass'] = df['Glass'].astype('int')\n",
    "df['Masonry'] = df['Masonry'].astype('int')\n",
    "df['None'] = df['None'].astype('int')\n",
    "df['Steel'] = df['Steel'].astype('int')\n",
    "df['Stone'] = df['Stone'].astype('int')\n",
    "df['Tiltwall'] = df['Tiltwall'].astype('int')\n",
    "df['Wood'] = df['Wood'].astype('int')"
   ]
  },
  {
   "cell_type": "code",
   "execution_count": 7,
   "metadata": {
    "collapsed": true
   },
   "outputs": [],
   "source": [
    "#transform all numbers to None for building_class\n",
    "b = []\n",
    "\n",
    "for i in range(len(df['building_class'])):\n",
    "    if (df.loc[i, 'building_class'] =='1'):\n",
    "        b.append('None')\n",
    "    elif (df.loc[i, 'building_class'] =='2'):\n",
    "        b.append('None')\n",
    "    elif (df.loc[i, 'building_class'] =='5'):\n",
    "        b.append('None')\n",
    "    else:\n",
    "        b.append(df.loc[i, 'building_class'])\n",
    "\n",
    "df['building_class'] = pd.Series(b)"
   ]
  },
  {
   "cell_type": "code",
   "execution_count": 8,
   "metadata": {},
   "outputs": [
    {
     "name": "stderr",
     "output_type": "stream",
     "text": [
      "C:\\Users\\yichi\\AppData\\Local\\Continuum\\anaconda3\\lib\\site-packages\\pandas\\core\\arrays\\datetimes.py:837: PerformanceWarning: Non-vectorized DateOffset being applied to Series or DatetimeIndex\n",
      "  PerformanceWarning,\n"
     ]
    }
   ],
   "source": [
    "import datetime\n",
    "#convert post_date column from 'MMM DD' format to datetime\n",
    "df['post_date'] = pd.to_datetime(df['post_date'],format='%b %d')\n",
    "df['post_date'] = df['post_date'] + pd.DateOffset(year = 2019)\n",
    "\n",
    "#create column 'month' to get month name\n",
    "df['month'] = df['post_date'].dt.month_name()\n",
    "\n",
    "#create days from today column \n",
    "df['days_of_listing'] = (datetime.date.today() - (df['post_date']).dt.date).apply(lambda x: x.days)\n",
    "\n",
    "#get district from address column and overwrite on address column\n",
    "df['district'] = [i.split(',')[0] for i in df['address']]  \n",
    "\n",
    "\n",
    "#fill None value with median of construction year\n",
    "df['construct_year'] = df['construct_year'].replace('None', np.nan).astype(float)\n",
    "df['construct_year'] = df['construct_year'].fillna(df['construct_year'].median())\n",
    "df['construct_year'] = df['construct_year'].astype(int)\n",
    "\n",
    "#remove white spaces from scraping\n",
    "df['term_length'] = df['term_length'].str.strip()\n",
    "\n",
    "#replace None value with numpy nan\n",
    "df['term_length'] = df['term_length'].replace('None', np.nan)"
   ]
  },
  {
   "cell_type": "code",
   "execution_count": 9,
   "metadata": {
    "collapsed": true
   },
   "outputs": [],
   "source": [
    "#get dummy variables for building class and month\n",
    "df = pd.get_dummies(data = df, columns = ['building_class','month','district','term_length'])"
   ]
  },
  {
   "cell_type": "code",
   "execution_count": 10,
   "metadata": {
    "collapsed": true
   },
   "outputs": [],
   "source": [
    "#drop unit price outliers\n",
    "df = df.drop(df[df['rate_price'] > 30].index)"
   ]
  },
  {
   "cell_type": "code",
   "execution_count": 11,
   "metadata": {
    "collapsed": true
   },
   "outputs": [],
   "source": [
    "#save dataframe\n",
    "with open('pickle-files/dataframe_1008.pkl', 'wb') as picklefile: \n",
    "     pickle.dump(df,picklefile)"
   ]
  },
  {
   "cell_type": "markdown",
   "metadata": {},
   "source": [
    "### Cleaning Works Left to Do\n",
    "1. clean *floor_level* data and transform to categorical dummy"
   ]
  },
  {
   "cell_type": "code",
   "execution_count": null,
   "metadata": {
    "scrolled": true
   },
   "outputs": [],
   "source": [
    "df[['title','sqft','address','floor_level']].head(10)"
   ]
  },
  {
   "cell_type": "code",
   "execution_count": null,
   "metadata": {
    "collapsed": true
   },
   "outputs": [],
   "source": [
    "df['floor_level'].str.split()"
   ]
  },
  {
   "cell_type": "code",
   "execution_count": null,
   "metadata": {
    "collapsed": true
   },
   "outputs": [],
   "source": [
    "test_list = []\n",
    "errors = []\n",
    "for i in df['floor_level'].str.split():\n",
    "    if len(i) > 1:\n",
    "        try:\n",
    "            test_list.append(int(i[1]))\n",
    "        except:\n",
    "            errors.append(i)\n",
    "    else:\n",
    "        errors.append(i)\n",
    "        pass\n"
   ]
  }
 ],
 "metadata": {
  "kernelspec": {
   "display_name": "Python 3",
   "language": "python",
   "name": "python3"
  },
  "language_info": {
   "codemirror_mode": {
    "name": "ipython",
    "version": 3
   },
   "file_extension": ".py",
   "mimetype": "text/x-python",
   "name": "python",
   "nbconvert_exporter": "python",
   "pygments_lexer": "ipython3",
   "version": "3.6.9"
  },
  "toc": {
   "base_numbering": 1,
   "nav_menu": {},
   "number_sections": true,
   "sideBar": true,
   "skip_h1_title": false,
   "title_cell": "Table of Contents",
   "title_sidebar": "Contents",
   "toc_cell": false,
   "toc_position": {},
   "toc_section_display": true,
   "toc_window_display": false
  }
 },
 "nbformat": 4,
 "nbformat_minor": 2
}
