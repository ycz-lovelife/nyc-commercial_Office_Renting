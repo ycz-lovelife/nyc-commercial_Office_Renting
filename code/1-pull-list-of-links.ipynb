{
 "cells": [
  {
   "cell_type": "code",
   "execution_count": 7,
   "metadata": {
    "collapsed": true
   },
   "outputs": [],
   "source": [
    "import numpy as np\n",
    "import pandas as pd\n",
    "from bs4 import BeautifulSoup\n",
    "import requests"
   ]
  },
  {
   "cell_type": "code",
   "execution_count": 14,
   "metadata": {},
   "outputs": [],
   "source": [
    "import time, os\n",
    "from selenium import webdriver\n",
    "from selenium.webdriver.common.keys import Keys\n",
    "\n",
    "#open page\n",
    "chromedriver = \"C:/Users/yichi/Desktop/Metis/chromedriver\" # path to the chromedriver executable\n",
    "os.environ[\"webdriver.chrome.driver\"] = chromedriver\n",
    "\n",
    "driver = webdriver.Chrome(chromedriver)\n",
    "my_html_ny = 'https://42floors.com/for-lease/office-space/us/ny/new-york'\n",
    "driver.get(my_html_ny)\n",
    "\n",
    "time.sleep(2)\n",
    "\n",
    "#grab web page html as text\n",
    "page = requests.get(my_html_ny).content\n",
    "\n",
    "'''\n",
    "set BeautifulSoup to click next page and grab all page links until no next page tag available\n",
    "'''\n",
    "link_list = []\n",
    "count = 0\n",
    "previous_url = 0\n",
    "next_url = my_html_ny \n",
    "continue_while_loop = True\n",
    "while continue_while_loop:\n",
    "    \n",
    "    page = requests.get(next_url).content\n",
    "    soup = BeautifulSoup(page,'lxml')\n",
    "    \n",
    "    #scrape page\n",
    "    \n",
    "    links = soup.find_all(class_='uniformRow listing-row grid-md grid-v-center pad-half-sm ')\n",
    "    \n",
    "    #append scraped scraped links to list\n",
    "    for i in range(len(links)):\n",
    "        link_list.append(links[i]['href'])\n",
    "    \n",
    "    try:\n",
    "        nextpage_button = driver.find_element_by_xpath('/html/body/div[3]/div[2]/div[2]/div/div[1]/div[3]/h4')\n",
    "        nextpage_button.click()\n",
    "    except:\n",
    "        None\n",
    "    count += 1\n",
    "    \n",
    "    \n",
    "    previous_url = driver.current_url\n",
    "    time.sleep(2)\n",
    "    \n",
    "    nextpage_button = driver.find_element_by_xpath('/html/body/div[3]/div[2]/div[2]/div/div[1]/div[2]/div[2]/div/ul/li[2]')\n",
    "    nextpage_button.click()\n",
    "    \n",
    "    next_url = driver.current_url\n",
    "    if previous_url==next_url:\n",
    "        continue_while_loop = False\n",
    "        \n",
    "\n"
   ]
  },
  {
   "cell_type": "code",
   "execution_count": 15,
   "metadata": {
    "scrolled": true
   },
   "outputs": [
    {
     "name": "stdout",
     "output_type": "stream",
     "text": [
      "2603\n"
     ]
    }
   ],
   "source": [
    "print(len(link_list))"
   ]
  },
  {
   "cell_type": "code",
   "execution_count": 9,
   "metadata": {
    "collapsed": true
   },
   "outputs": [],
   "source": [
    "driver.close()"
   ]
  },
  {
   "cell_type": "code",
   "execution_count": 43,
   "metadata": {},
   "outputs": [
    {
     "data": {
      "text/plain": [
       "'C:\\\\Users\\\\yichi\\\\Desktop\\\\Metis\\\\Project2-WebScrapingAndRegression'"
      ]
     },
     "execution_count": 43,
     "metadata": {},
     "output_type": "execute_result"
    }
   ],
   "source": [
    "os.getcwd()"
   ]
  },
  {
   "cell_type": "code",
   "execution_count": 44,
   "metadata": {
    "collapsed": true
   },
   "outputs": [],
   "source": [
    "#store progress in pickle\n",
    "import pickle\n",
    "\n",
    "with open('pickle-files/link_list.pkl','wb') as picklefile:\n",
    "    pickle.dump(link_list,picklefile)\n",
    "#link_list is list or dictionary of values"
   ]
  },
  {
   "cell_type": "code",
   "execution_count": null,
   "metadata": {
    "collapsed": true
   },
   "outputs": [],
   "source": []
  }
 ],
 "metadata": {
  "kernelspec": {
   "display_name": "Python 3",
   "language": "python",
   "name": "python3"
  },
  "language_info": {
   "codemirror_mode": {
    "name": "ipython",
    "version": 3
   },
   "file_extension": ".py",
   "mimetype": "text/x-python",
   "name": "python",
   "nbconvert_exporter": "python",
   "pygments_lexer": "ipython3",
   "version": "3.6.3"
  }
 },
 "nbformat": 4,
 "nbformat_minor": 2
}
