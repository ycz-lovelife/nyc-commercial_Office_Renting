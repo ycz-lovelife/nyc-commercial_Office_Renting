{
 "cells": [
  {
   "cell_type": "code",
   "execution_count": 90,
   "metadata": {
    "collapsed": true
   },
   "outputs": [],
   "source": [
    "import numpy as np\n",
    "import pandas as pd\n",
    "from bs4 import BeautifulSoup\n",
    "import requests\n",
    "import re"
   ]
  },
  {
   "cell_type": "code",
   "execution_count": 91,
   "metadata": {},
   "outputs": [
    {
     "name": "stdout",
     "output_type": "stream",
     "text": [
      "3532\n"
     ]
    }
   ],
   "source": [
    "#load list of links in\n",
    "import pickle\n",
    "\n",
    "with open('pickle-files/link_list_1004.pkl', 'rb') as picklefile: \n",
    "    link_list = pickle.load(picklefile)\n",
    "\n",
    "#check how many url lists are loaded\n",
    "print(len(link_list))"
   ]
  },
  {
   "cell_type": "code",
   "execution_count": 8,
   "metadata": {
    "collapsed": true
   },
   "outputs": [],
   "source": [
    "def build_dict(test_soup):\n",
    "    test = {}\n",
    "    test['title'] = test_soup.find(class_='bold margin-none').text.strip()\n",
    "\n",
    "    #square feet - num\n",
    "    test['sqft'] = (test_soup.find('div',itemtype = 'http://schema.org/Offer')\n",
    "                    .find(class_='listing-size col-5-sm col-3-md')\n",
    "                    .text.strip().rstrip('sqft').rstrip()\n",
    "                   )\n",
    "\n",
    "    # location address - string\n",
    "    test['address'] = test_soup.find(text=re.compile('NY')).strip()\n",
    "\n",
    "    # floor level - num\n",
    "    test['floor_level'] = test_soup.find(class_='listing-name col-6-sm col-3-md col-center').text.strip()\n",
    "\n",
    "\n",
    "    f_xpath = test_soup.find(class_='features section')\n",
    "    # building construction year - num\n",
    "    if f_xpath.find(text=re.compile('Constructed')):\n",
    "        test['construct_year'] = (f_xpath.find(text=re.compile('Constructed'))\n",
    "                                  .parent.parent.find(class_='strong').text.strip()\n",
    "                                 )\n",
    "    else:\n",
    "        test['construct_year'] = 'None'\n",
    "\n",
    "    # building renovation year - num\n",
    "    if f_xpath.find(text=re.compile('Renovated')):\n",
    "        test['renovate_year'] = (f_xpath.find(text=re.compile('Renovated'))\n",
    "                                 .parent.parent.find(class_='strong')\n",
    "                                 .text.strip()\n",
    "                                )\n",
    "    else:\n",
    "        test['renovate_year'] = 'None'\n",
    "\n",
    "    # metro transition lines near the building - string\n",
    "    if test_soup.find(class_='features section').find(text=re.compile('Public Transit')):\n",
    "        test['public_transit'] = (test_soup.find(class_='features section')\n",
    "                                  .find(text=re.compile('Public Transit'))\n",
    "                                  .parent.parent.find(class_='strong')\n",
    "                                  .text\n",
    "                                  .strip()\n",
    "                                 )\n",
    "    else:\n",
    "        test['public_transit'] = 'None'\n",
    "\n",
    "\n",
    "    # building class - categorical\n",
    "    if f_xpath.find(text=re.compile('Building')):\n",
    "        test['building_class'] = (f_xpath.find(text=re.compile('Building'))\n",
    "                                  .parent.parent.find(class_='strong')\n",
    "                                  .text.strip()\n",
    "                                 )\n",
    "    else:\n",
    "        test['building_class'] = 'None'\n",
    "\n",
    "    #Common Kitchen\n",
    "    if f_xpath.find(text=re.compile('Kitchen')):\n",
    "        test['common_kitchen'] = '1'\n",
    "    else:\n",
    "        test['common_kitchen'] = '0'        \n",
    "\n",
    "    #       Showers\n",
    "    if f_xpath.find(text=re.compile('Showers')):\n",
    "        test['showers'] = '1'\n",
    "    else:\n",
    "        test['showers'] = '0'\n",
    "\n",
    "    #       Key Card Access\n",
    "    if f_xpath.find(text=re.compile('Key Card Access')):\n",
    "        test['key_card_access'] = '1'\n",
    "    else:\n",
    "        test['key_card_access'] = '0'\n",
    "\n",
    "    #       On site Security\n",
    "    if f_xpath.find(text=re.compile('Security')):\n",
    "        test['on_site_security'] = '1'\n",
    "    else:\n",
    "        test['on_site_security'] = '0'\n",
    "\n",
    "\n",
    "    #list posted date - datetime    \n",
    "    post_xpath = test_soup.find(class_='listing-touched_at col-3-md hide-sm')\n",
    "    if post_xpath:\n",
    "        test['post_date'] = post_xpath.text.strip().split('\\n')[0]\n",
    "    else:\n",
    "        test['post_date'] = 'None'\n",
    "\n",
    "\n",
    "    features_xpath = test_soup.find('div',class_='features grid grid-top grid-nest margin-v')\n",
    "    #lease term length - num\n",
    "    if features_xpath.find(text=re.compile('Term')):\n",
    "        test['term_length'] = (features_xpath.find(text=re.compile('Term'))\n",
    "                               .parent.parent.find('span', class_='text-nowrap text-bold')\n",
    "                               .text)\n",
    "    else:\n",
    "        test['term_length'] = 'None'\n",
    "\n",
    "    #building construction type - \n",
    "    f_xpath = test_soup.find(\"div\",class_=\"grid grid-nest grid-top\")\n",
    "    if f_xpath.find(text=re.compile('Construction Type')):\n",
    "        test['construction_type'] = (f_xpath.find(text=re.compile('Construction Type'))\n",
    "                                     .parent.parent.find('div',class_='strong')\n",
    "                                     .text\n",
    "                                     .strip())\n",
    "    else:\n",
    "        test['construction_type'] = 'None'\n",
    "\n",
    "\n",
    "    #Amenities\n",
    "    amenity_xpath = test_soup.find(\"div\",class_=\"margin-v grid grid-top grid-nest\")\n",
    "    #Furniture\n",
    "    if amenity_xpath:\n",
    "        for i in amenity_xpath:\n",
    "            if amenity_xpath.find(text=re.compile('Kitchen')):\n",
    "                test['furniture'] = '1'\n",
    "            else:\n",
    "                test['furniture'] = '0'\n",
    "\n",
    "            #Turnkey\n",
    "            if amenity_xpath.find(text=re.compile('Turnkey')):\n",
    "                test['turnkey'] = '1'\n",
    "            else:\n",
    "                test['turnkey'] = '0'\n",
    "\n",
    "            #Natural Light\n",
    "            if amenity_xpath.find(text=re.compile('Natural Light')):\n",
    "                test['natural_light'] = '1'\n",
    "            else:\n",
    "                test['natural_light'] = '0'\n",
    "\n",
    "\n",
    "            #High Ceilings\n",
    "            if amenity_xpath.find(text=re.compile('High Ceilings')):\n",
    "                test['high_ceilings'] = '1'\n",
    "            else:\n",
    "                test['high_ceilings'] = '0'\n",
    "\n",
    "            #Plug and Play\n",
    "            if amenity_xpath.find(text=re.compile('Plug')):\n",
    "                test['plug_and_play'] = '1'\n",
    "            else:\n",
    "                test['plug_and_play'] = '0'\n",
    "\n",
    "\n",
    "        #price rate\n",
    "        rate_xpath = test_soup.find(class_='listing-rate col-2-md hide-sm ')\n",
    "        if rate_xpath:\n",
    "            test['rate_price'] = rate_xpath.text.strip().split('\\n')[0]\n",
    "            test['rate_term'] = rate_xpath.text.strip().split('\\n')[1].strip().lstrip('/')\n",
    "        else:\n",
    "            test['rate_price'] = 'None'\n",
    "            test['rate_term'] = 'None'\n",
    "    return test\n"
   ]
  },
  {
   "cell_type": "code",
   "execution_count": 89,
   "metadata": {
    "scrolled": true
   },
   "outputs": [
    {
     "name": "stdout",
     "output_type": "stream",
     "text": [
      "63 222\n"
     ]
    }
   ],
   "source": [
    "master_data_list = []\n",
    "error_list = []\n",
    "good_list = []\n",
    "for url in link_list:\n",
    "    test_url = 'https://42floors.com'+url\n",
    "    test_page = requests.get(test_url).text\n",
    "    test_soup = BeautifulSoup(test_page, \"lxml\")\n",
    "    try:\n",
    "        master_data_list.append(build_dict(test_soup))\n",
    "        good_list.append(url)\n",
    "    except:\n",
    "        error_list.append(url)\n",
    "        pass\n",
    "    \n",
    "    \n",
    "print (len(master_data_list),len(error_list))"
   ]
  },
  {
   "cell_type": "code",
   "execution_count": 92,
   "metadata": {},
   "outputs": [
    {
     "name": "stdout",
     "output_type": "stream",
     "text": [
      "3310\n"
     ]
    }
   ],
   "source": [
    "print(len(master_data_list))"
   ]
  },
  {
   "cell_type": "code",
   "execution_count": 93,
   "metadata": {
    "collapsed": true
   },
   "outputs": [],
   "source": [
    "#save data\n",
    "with open('pickle-files/master_data_1007.pkl', 'wb') as picklefile: \n",
    "     pickle.dump(master_data_list,picklefile)"
   ]
  }
 ],
 "metadata": {
  "kernelspec": {
   "display_name": "Python 3",
   "language": "python",
   "name": "python3"
  },
  "language_info": {
   "codemirror_mode": {
    "name": "ipython",
    "version": 3
   },
   "file_extension": ".py",
   "mimetype": "text/x-python",
   "name": "python",
   "nbconvert_exporter": "python",
   "pygments_lexer": "ipython3",
   "version": "3.6.3"
  }
 },
 "nbformat": 4,
 "nbformat_minor": 2
}
